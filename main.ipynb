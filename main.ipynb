{
  "nbformat": 4,
  "nbformat_minor": 0,
  "metadata": {
    "colab": {
      "provenance": [],
      "authorship_tag": "ABX9TyPdXgIN9X3epVXknQKH+Fqq",
      "include_colab_link": true
    },
    "kernelspec": {
      "name": "python3",
      "display_name": "Python 3"
    },
    "language_info": {
      "name": "python"
    }
  },
  "cells": [
    {
      "cell_type": "markdown",
      "metadata": {
        "id": "view-in-github",
        "colab_type": "text"
      },
      "source": [
        "<a href=\"https://colab.research.google.com/github/GenaroHacker/python_module_scanner/blob/main/main.ipynb\" target=\"_parent\"><img src=\"https://colab.research.google.com/assets/colab-badge.svg\" alt=\"Open In Colab\"/></a>"
      ]
    },
    {
      "cell_type": "code",
      "execution_count": 1,
      "metadata": {
        "cellView": "form",
        "id": "gPpU19C8R7K8"
      },
      "outputs": [],
      "source": [
        "# @title Set Up\n",
        "%%capture\n",
        "!git clone https://github.com/GenaroHacker/python_module_scanner.git\n",
        "from python_module_scanner.classes.module_scanner import ModuleScanner\n"
      ]
    },
    {
      "cell_type": "code",
      "source": [
        "# @title Declare Module\n",
        "\n",
        "# Example usage:\n",
        "import ast\n",
        "module = ast\n",
        "scanner = ModuleScanner(module)\n"
      ],
      "metadata": {
        "cellView": "form",
        "id": "MzPgVo2bTDPo"
      },
      "execution_count": 2,
      "outputs": []
    },
    {
      "cell_type": "code",
      "source": [
        "# @title Class Family\n",
        "print(scanner.scan_class_relationships())\n"
      ],
      "metadata": {
        "cellView": "form",
        "id": "564OiRQ5UOub",
        "outputId": "2a8aed79-d478-431b-c0b4-95d0b36ee006",
        "colab": {
          "base_uri": "https://localhost:8080/"
        }
      },
      "execution_count": 3,
      "outputs": [
        {
          "output_type": "stream",
          "name": "stdout",
          "text": [
            "{'NodeVisitor': {'name': 'NodeVisitor', 'bases': [], 'subclasses': [{'name': 'NodeTransformer', 'bases': ['NodeVisitor'], 'subclasses': []}, {'name': '_Unparser', 'bases': ['NodeVisitor'], 'subclasses': []}]}, '_ABC': {'name': '_ABC', 'bases': [], 'subclasses': []}, 'Num': {'name': 'Num', 'bases': [], 'subclasses': []}, 'Str': {'name': 'Str', 'bases': [], 'subclasses': []}, 'Bytes': {'name': 'Bytes', 'bases': [], 'subclasses': []}, 'NameConstant': {'name': 'NameConstant', 'bases': [], 'subclasses': []}, 'Ellipsis': {'name': 'Ellipsis', 'bases': [], 'subclasses': []}, 'slice': {'name': 'slice', 'bases': [], 'subclasses': [{'name': 'Index', 'bases': ['slice'], 'subclasses': []}, {'name': 'ExtSlice', 'bases': ['slice'], 'subclasses': []}]}, 'Suite': {'name': 'Suite', 'bases': [], 'subclasses': []}, 'AugLoad': {'name': 'AugLoad', 'bases': [], 'subclasses': []}, 'AugStore': {'name': 'AugStore', 'bases': [], 'subclasses': []}, 'Param': {'name': 'Param', 'bases': [], 'subclasses': []}, '_Precedence': {'name': '_Precedence', 'bases': [], 'subclasses': []}}\n"
          ]
        }
      ]
    },
    {
      "cell_type": "code",
      "source": [
        "# @title Functions and Methods\n",
        "'''\n",
        "only = {\n",
        "    'docstring': True,\n",
        "    'decorators': False,\n",
        "    'args': True,\n",
        "    'returns': True,\n",
        "    'class': ['SomeClass', 'AnotherClass']\n",
        "}\n",
        "'''\n",
        "only = {}\n",
        "print(scanner.scan_function_definitions(only=only))\n"
      ],
      "metadata": {
        "cellView": "form",
        "id": "GYm6rHkiUPy5",
        "outputId": "42f169b3-5fcf-4fcf-8ccb-4bf4acad9450",
        "colab": {
          "base_uri": "https://localhost:8080/"
        }
      },
      "execution_count": 4,
      "outputs": [
        {
          "output_type": "stream",
          "name": "stdout",
          "text": [
            "[{'name': 'parse', 'class': None, 'details': {'args': ['source', 'filename', 'mode'], 'docstring': 'Parse the source into an AST node.\\nEquivalent to compile(source, filename, mode, PyCF_ONLY_AST).\\nPass type_comments=True to get back type comments where the syntax allows.'}}, {'name': 'literal_eval', 'class': None, 'details': {'args': ['node_or_string'], 'docstring': 'Evaluate an expression node or a string containing only a Python\\nexpression.  The string or node provided may only consist of the following\\nPython literal structures: strings, bytes, numbers, tuples, lists, dicts,\\nsets, booleans, and None.\\n\\nCaution: A complex expression can overflow the C stack and cause a crash.'}}, {'name': 'dump', 'class': None, 'details': {'args': ['node', 'annotate_fields', 'include_attributes'], 'docstring': 'Return a formatted dump of the tree in node.  This is mainly useful for\\ndebugging purposes.  If annotate_fields is true (by default),\\nthe returned string will show the names and the values for fields.\\nIf annotate_fields is false, the result string will be more compact by\\nomitting unambiguous field names.  Attributes such as line\\nnumbers and column offsets are not dumped by default.  If this is wanted,\\ninclude_attributes can be set to true.  If indent is a non-negative\\ninteger or string, then the tree will be pretty-printed with that indent\\nlevel. None (the default) selects the single line representation.'}}, {'name': 'copy_location', 'class': None, 'details': {'args': ['new_node', 'old_node'], 'docstring': 'Copy source location (`lineno`, `col_offset`, `end_lineno`, and `end_col_offset`\\nattributes) from *old_node* to *new_node* if possible, and return *new_node*.'}}, {'name': 'fix_missing_locations', 'class': None, 'details': {'args': ['node'], 'docstring': 'When you compile a node tree with compile(), the compiler expects lineno and\\ncol_offset attributes for every node that supports them.  This is rather\\ntedious to fill in for generated nodes, so this helper adds these attributes\\nrecursively where not already set, by setting them to the values of the\\nparent node.  It works recursively starting at *node*.'}}, {'name': 'increment_lineno', 'class': None, 'details': {'args': ['node', 'n'], 'docstring': 'Increment the line number and end line number of each node in the tree\\nstarting at *node* by *n*. This is useful to \"move code\" to a different\\nlocation in a file.'}}, {'name': 'iter_fields', 'class': None, 'details': {'args': ['node'], 'docstring': 'Yield a tuple of ``(fieldname, value)`` for each field in ``node._fields``\\nthat is present on *node*.'}}, {'name': 'iter_child_nodes', 'class': None, 'details': {'args': ['node'], 'docstring': 'Yield all direct child nodes of *node*, that is, all fields that are nodes\\nand all items of fields that are lists of nodes.'}}, {'name': 'get_docstring', 'class': None, 'details': {'args': ['node', 'clean'], 'docstring': 'Return the docstring for the given node or None if no docstring can\\nbe found.  If the node provided does not have docstrings a TypeError\\nwill be raised.\\n\\nIf *clean* is `True`, all tabs are expanded to spaces and any whitespace\\nthat can be uniformly removed from the second line onwards is removed.'}}, {'name': '_splitlines_no_ff', 'class': None, 'details': {'args': ['source'], 'docstring': 'Split a string into lines ignoring form feed and other chars.\\n\\nThis mimics how the Python parser splits source code.'}}, {'name': '_pad_whitespace', 'class': None, 'details': {'args': ['source'], 'docstring': \"Replace all chars except '\\\\f\\\\t' in a line with spaces.\"}}, {'name': 'get_source_segment', 'class': None, 'details': {'args': ['source', 'node'], 'docstring': 'Get source code segment of the *source* that generated *node*.\\n\\nIf some location information (`lineno`, `end_lineno`, `col_offset`,\\nor `end_col_offset`) is missing, return None.\\n\\nIf *padded* is `True`, the first line of a multi-line statement will\\nbe padded with spaces to match its original position.'}}, {'name': 'walk', 'class': None, 'details': {'args': ['node'], 'docstring': \"Recursively yield all descendant nodes in the tree starting at *node*\\n(including *node* itself), in no specified order.  This is useful if you\\nonly want to modify nodes in place and don't care about the context.\"}}, {'name': '_new', 'class': None, 'details': {'args': ['cls']}}, {'name': 'unparse', 'class': None, 'details': {'args': ['ast_obj']}}, {'name': 'main', 'class': None, 'details': {}}, {'name': '_raise_malformed_node', 'class': None, 'details': {'args': ['node']}}, {'name': '_convert_num', 'class': None, 'details': {'args': ['node']}}, {'name': '_convert_signed_num', 'class': None, 'details': {'args': ['node']}}, {'name': '_convert', 'class': None, 'details': {'args': ['node']}}, {'name': '_format', 'class': None, 'details': {'args': ['node', 'level']}}, {'name': '_fix', 'class': None, 'details': {'args': ['node', 'lineno', 'col_offset', 'end_lineno', 'end_col_offset']}}, {'name': 'visit', 'class': 'NodeVisitor', 'details': {'args': ['self', 'node'], 'docstring': 'Visit a node.'}}, {'name': 'generic_visit', 'class': 'NodeVisitor', 'details': {'args': ['self', 'node'], 'docstring': 'Called if no explicit visitor function exists for a node.'}}, {'name': 'visit_Constant', 'class': 'NodeVisitor', 'details': {'args': ['self', 'node']}}, {'name': 'generic_visit', 'class': 'NodeTransformer', 'details': {'args': ['self', 'node']}}, {'name': '_getter', 'class': None, 'details': {'args': ['self'], 'docstring': 'Deprecated. Use value instead.'}}, {'name': '_setter', 'class': None, 'details': {'args': ['self', 'value']}}, {'name': '__init__', 'class': '_ABC', 'details': {'args': ['cls']}}, {'name': '__instancecheck__', 'class': '_ABC', 'details': {'args': ['cls', 'inst']}}, {'name': '__new__', 'class': 'Ellipsis', 'details': {'args': ['cls']}}, {'name': '__new__', 'class': 'Index', 'details': {'args': ['cls', 'value']}}, {'name': '__new__', 'class': 'ExtSlice', 'details': {'args': ['cls', 'dims']}}, {'name': '_dims_getter', 'class': None, 'details': {'args': ['self'], 'docstring': 'Deprecated. Use elts instead.'}}, {'name': '_dims_setter', 'class': None, 'details': {'args': ['self', 'value']}}, {'name': 'next', 'class': '_Precedence', 'details': {'args': ['self']}}, {'name': '__init__', 'class': '_Unparser', 'details': {'args': ['self']}}, {'name': 'interleave', 'class': '_Unparser', 'details': {'args': ['self', 'inter', 'f', 'seq'], 'docstring': 'Call f on each item in seq, calling inter() in between.'}}, {'name': 'items_view', 'class': '_Unparser', 'details': {'args': ['self', 'traverser', 'items'], 'docstring': 'Traverse and separate the given *items* with a comma and append it to\\nthe buffer. If *items* is a single item sequence, a trailing comma\\nwill be added.'}}, {'name': 'maybe_newline', 'class': '_Unparser', 'details': {'args': ['self'], 'docstring': \"Adds a newline if it isn't the start of generated source\"}}, {'name': 'fill', 'class': '_Unparser', 'details': {'args': ['self', 'text'], 'docstring': 'Indent a piece of text and append it, according to the current\\nindentation level'}}, {'name': 'write', 'class': '_Unparser', 'details': {'args': ['self', 'text'], 'docstring': 'Append a piece of text'}}, {'name': 'buffer_writer', 'class': '_Unparser', 'details': {'args': ['self', 'text']}}, {'name': 'buffer', 'class': '_Unparser', 'details': {'args': ['self'], 'decorators': ['property']}}, {'name': 'block', 'class': '_Unparser', 'details': {'args': ['self'], 'docstring': \"A context manager for preparing the source for blocks. It adds\\nthe character':', increases the indentation on enter and decreases\\nthe indentation on exit. If *extra* is given, it will be directly\\nappended after the colon character.\", 'decorators': ['contextmanager']}}, {'name': 'delimit', 'class': '_Unparser', 'details': {'args': ['self', 'start', 'end'], 'docstring': 'A context manager for preparing the source for expressions. It adds\\n*start* to the buffer and enters, after exit it adds *end*.', 'decorators': ['contextmanager']}}, {'name': 'delimit_if', 'class': '_Unparser', 'details': {'args': ['self', 'start', 'end', 'condition']}}, {'name': 'require_parens', 'class': '_Unparser', 'details': {'args': ['self', 'precedence', 'node'], 'docstring': 'Shortcut to adding precedence related parens'}}, {'name': 'get_precedence', 'class': '_Unparser', 'details': {'args': ['self', 'node']}}, {'name': 'set_precedence', 'class': '_Unparser', 'details': {'args': ['self', 'precedence']}}, {'name': 'get_raw_docstring', 'class': '_Unparser', 'details': {'args': ['self', 'node'], 'docstring': 'If a docstring node is found in the body of the *node* parameter,\\nreturn that docstring node, None otherwise.\\n\\nLogic mirrored from ``_PyAST_GetDocString``.'}}, {'name': 'get_type_comment', 'class': '_Unparser', 'details': {'args': ['self', 'node']}}, {'name': 'traverse', 'class': '_Unparser', 'details': {'args': ['self', 'node']}}, {'name': 'visit', 'class': '_Unparser', 'details': {'args': ['self', 'node'], 'docstring': 'Outputs a source code string that, if converted back to an ast\\n(using ast.parse) will generate an AST equivalent to *node*'}}, {'name': '_write_docstring_and_traverse_body', 'class': '_Unparser', 'details': {'args': ['self', 'node']}}, {'name': 'visit_Module', 'class': '_Unparser', 'details': {'args': ['self', 'node']}}, {'name': 'visit_FunctionType', 'class': '_Unparser', 'details': {'args': ['self', 'node']}}, {'name': 'visit_Expr', 'class': '_Unparser', 'details': {'args': ['self', 'node']}}, {'name': 'visit_NamedExpr', 'class': '_Unparser', 'details': {'args': ['self', 'node']}}, {'name': 'visit_Import', 'class': '_Unparser', 'details': {'args': ['self', 'node']}}, {'name': 'visit_ImportFrom', 'class': '_Unparser', 'details': {'args': ['self', 'node']}}, {'name': 'visit_Assign', 'class': '_Unparser', 'details': {'args': ['self', 'node']}}, {'name': 'visit_AugAssign', 'class': '_Unparser', 'details': {'args': ['self', 'node']}}, {'name': 'visit_AnnAssign', 'class': '_Unparser', 'details': {'args': ['self', 'node']}}, {'name': 'visit_Return', 'class': '_Unparser', 'details': {'args': ['self', 'node']}}, {'name': 'visit_Pass', 'class': '_Unparser', 'details': {'args': ['self', 'node']}}, {'name': 'visit_Break', 'class': '_Unparser', 'details': {'args': ['self', 'node']}}, {'name': 'visit_Continue', 'class': '_Unparser', 'details': {'args': ['self', 'node']}}, {'name': 'visit_Delete', 'class': '_Unparser', 'details': {'args': ['self', 'node']}}, {'name': 'visit_Assert', 'class': '_Unparser', 'details': {'args': ['self', 'node']}}, {'name': 'visit_Global', 'class': '_Unparser', 'details': {'args': ['self', 'node']}}, {'name': 'visit_Nonlocal', 'class': '_Unparser', 'details': {'args': ['self', 'node']}}, {'name': 'visit_Await', 'class': '_Unparser', 'details': {'args': ['self', 'node']}}, {'name': 'visit_Yield', 'class': '_Unparser', 'details': {'args': ['self', 'node']}}, {'name': 'visit_YieldFrom', 'class': '_Unparser', 'details': {'args': ['self', 'node']}}, {'name': 'visit_Raise', 'class': '_Unparser', 'details': {'args': ['self', 'node']}}, {'name': 'visit_Try', 'class': '_Unparser', 'details': {'args': ['self', 'node']}}, {'name': 'visit_ExceptHandler', 'class': '_Unparser', 'details': {'args': ['self', 'node']}}, {'name': 'visit_ClassDef', 'class': '_Unparser', 'details': {'args': ['self', 'node']}}, {'name': 'visit_FunctionDef', 'class': '_Unparser', 'details': {'args': ['self', 'node']}}, {'name': 'visit_AsyncFunctionDef', 'class': '_Unparser', 'details': {'args': ['self', 'node']}}, {'name': '_function_helper', 'class': '_Unparser', 'details': {'args': ['self', 'node', 'fill_suffix']}}, {'name': 'visit_For', 'class': '_Unparser', 'details': {'args': ['self', 'node']}}, {'name': 'visit_AsyncFor', 'class': '_Unparser', 'details': {'args': ['self', 'node']}}, {'name': '_for_helper', 'class': '_Unparser', 'details': {'args': ['self', 'fill', 'node']}}, {'name': 'visit_If', 'class': '_Unparser', 'details': {'args': ['self', 'node']}}, {'name': 'visit_While', 'class': '_Unparser', 'details': {'args': ['self', 'node']}}, {'name': 'visit_With', 'class': '_Unparser', 'details': {'args': ['self', 'node']}}, {'name': 'visit_AsyncWith', 'class': '_Unparser', 'details': {'args': ['self', 'node']}}, {'name': '_str_literal_helper', 'class': '_Unparser', 'details': {'args': ['self', 'string'], 'docstring': 'Helper for writing string literals, minimizing escapes.\\nReturns the tuple (string literal to write, possible quote types).'}}, {'name': '_write_str_avoiding_backslashes', 'class': '_Unparser', 'details': {'args': ['self', 'string'], 'docstring': 'Write string literal value with a best effort attempt to avoid backslashes.'}}, {'name': 'visit_JoinedStr', 'class': '_Unparser', 'details': {'args': ['self', 'node']}}, {'name': 'visit_FormattedValue', 'class': '_Unparser', 'details': {'args': ['self', 'node']}}, {'name': '_fstring_JoinedStr', 'class': '_Unparser', 'details': {'args': ['self', 'node', 'write']}}, {'name': '_fstring_Constant', 'class': '_Unparser', 'details': {'args': ['self', 'node', 'write']}}, {'name': '_fstring_FormattedValue', 'class': '_Unparser', 'details': {'args': ['self', 'node', 'write']}}, {'name': 'visit_Name', 'class': '_Unparser', 'details': {'args': ['self', 'node']}}, {'name': '_write_docstring', 'class': '_Unparser', 'details': {'args': ['self', 'node']}}, {'name': '_write_constant', 'class': '_Unparser', 'details': {'args': ['self', 'value']}}, {'name': 'visit_Constant', 'class': '_Unparser', 'details': {'args': ['self', 'node']}}, {'name': 'visit_List', 'class': '_Unparser', 'details': {'args': ['self', 'node']}}, {'name': 'visit_ListComp', 'class': '_Unparser', 'details': {'args': ['self', 'node']}}, {'name': 'visit_GeneratorExp', 'class': '_Unparser', 'details': {'args': ['self', 'node']}}, {'name': 'visit_SetComp', 'class': '_Unparser', 'details': {'args': ['self', 'node']}}, {'name': 'visit_DictComp', 'class': '_Unparser', 'details': {'args': ['self', 'node']}}, {'name': 'visit_comprehension', 'class': '_Unparser', 'details': {'args': ['self', 'node']}}, {'name': 'visit_IfExp', 'class': '_Unparser', 'details': {'args': ['self', 'node']}}, {'name': 'visit_Set', 'class': '_Unparser', 'details': {'args': ['self', 'node']}}, {'name': 'visit_Dict', 'class': '_Unparser', 'details': {'args': ['self', 'node']}}, {'name': 'visit_Tuple', 'class': '_Unparser', 'details': {'args': ['self', 'node']}}, {'name': 'visit_UnaryOp', 'class': '_Unparser', 'details': {'args': ['self', 'node']}}, {'name': 'visit_BinOp', 'class': '_Unparser', 'details': {'args': ['self', 'node']}}, {'name': 'visit_Compare', 'class': '_Unparser', 'details': {'args': ['self', 'node']}}, {'name': 'visit_BoolOp', 'class': '_Unparser', 'details': {'args': ['self', 'node']}}, {'name': 'visit_Attribute', 'class': '_Unparser', 'details': {'args': ['self', 'node']}}, {'name': 'visit_Call', 'class': '_Unparser', 'details': {'args': ['self', 'node']}}, {'name': 'visit_Subscript', 'class': '_Unparser', 'details': {'args': ['self', 'node']}}, {'name': 'visit_Starred', 'class': '_Unparser', 'details': {'args': ['self', 'node']}}, {'name': 'visit_Ellipsis', 'class': '_Unparser', 'details': {'args': ['self', 'node']}}, {'name': 'visit_Slice', 'class': '_Unparser', 'details': {'args': ['self', 'node']}}, {'name': 'visit_Match', 'class': '_Unparser', 'details': {'args': ['self', 'node']}}, {'name': 'visit_arg', 'class': '_Unparser', 'details': {'args': ['self', 'node']}}, {'name': 'visit_arguments', 'class': '_Unparser', 'details': {'args': ['self', 'node']}}, {'name': 'visit_keyword', 'class': '_Unparser', 'details': {'args': ['self', 'node']}}, {'name': 'visit_Lambda', 'class': '_Unparser', 'details': {'args': ['self', 'node']}}, {'name': 'visit_alias', 'class': '_Unparser', 'details': {'args': ['self', 'node']}}, {'name': 'visit_withitem', 'class': '_Unparser', 'details': {'args': ['self', 'node']}}, {'name': 'visit_match_case', 'class': '_Unparser', 'details': {'args': ['self', 'node']}}, {'name': 'visit_MatchValue', 'class': '_Unparser', 'details': {'args': ['self', 'node']}}, {'name': 'visit_MatchSingleton', 'class': '_Unparser', 'details': {'args': ['self', 'node']}}, {'name': 'visit_MatchSequence', 'class': '_Unparser', 'details': {'args': ['self', 'node']}}, {'name': 'visit_MatchStar', 'class': '_Unparser', 'details': {'args': ['self', 'node']}}, {'name': 'visit_MatchMapping', 'class': '_Unparser', 'details': {'args': ['self', 'node']}}, {'name': 'visit_MatchClass', 'class': '_Unparser', 'details': {'args': ['self', 'node']}}, {'name': 'visit_MatchAs', 'class': '_Unparser', 'details': {'args': ['self', 'node']}}, {'name': 'visit_MatchOr', 'class': '_Unparser', 'details': {'args': ['self', 'node']}}, {'name': 'escape_char', 'class': None, 'details': {'args': ['c']}}, {'name': 'write_key_value_pair', 'class': None, 'details': {'args': ['k', 'v']}}, {'name': 'write_item', 'class': None, 'details': {'args': ['item']}}, {'name': 'increasing_level_traverse', 'class': None, 'details': {'args': ['node']}}, {'name': 'is_simple_tuple', 'class': None, 'details': {'args': ['slice_value']}}, {'name': 'write_key_pattern_pair', 'class': None, 'details': {'args': ['pair']}}, {'name': 'write_attr_pattern', 'class': None, 'details': {'args': ['pair']}}]\n"
          ]
        }
      ]
    },
    {
      "cell_type": "code",
      "source": [
        "# @title Dependencies\n",
        "print(scanner.scan_module_dependencies())\n"
      ],
      "metadata": {
        "cellView": "form",
        "id": "X06lh5SLUQ3-",
        "outputId": "aad3e633-3ad2-45e3-af03-636194abccb3",
        "colab": {
          "base_uri": "https://localhost:8080/"
        }
      },
      "execution_count": 5,
      "outputs": [
        {
          "output_type": "stream",
          "name": "stdout",
          "text": [
            "{'direct': [{'name': 'sys', 'alias': 'sys'}, {'name': 'inspect', 'alias': 'inspect'}, {'name': 'warnings', 'alias': 'warnings'}, {'name': 'argparse', 'alias': 'argparse'}], 'from': [{'module': '_ast.*', 'alias': '*'}, {'module': 'contextlib.contextmanager', 'alias': 'contextmanager'}, {'module': 'contextlib.nullcontext', 'alias': 'nullcontext'}, {'module': 'enum.IntEnum', 'alias': 'IntEnum'}, {'module': 'enum.auto', 'alias': 'auto'}, {'module': 'collections.deque', 'alias': 'deque'}]}\n"
          ]
        }
      ]
    }
  ]
}