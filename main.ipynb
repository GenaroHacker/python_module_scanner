{
  "nbformat": 4,
  "nbformat_minor": 0,
  "metadata": {
    "colab": {
      "provenance": [],
      "authorship_tag": "ABX9TyPdXgIN9X3epVXknQKH+Fqq",
      "include_colab_link": true
    },
    "kernelspec": {
      "name": "python3",
      "display_name": "Python 3"
    },
    "language_info": {
      "name": "python"
    }
  },
  "cells": [
    {
      "cell_type": "markdown",
      "metadata": {
        "id": "view-in-github",
        "colab_type": "text"
      },
      "source": [
        "<a href=\"https://colab.research.google.com/github/GenaroHacker/python_module_scanner/blob/main/main.ipynb\" target=\"_parent\"><img src=\"https://colab.research.google.com/assets/colab-badge.svg\" alt=\"Open In Colab\"/></a>"
      ]
    },
    {
      "cell_type": "code",
      "execution_count": 4,
      "metadata": {
        "cellView": "form",
        "id": "gPpU19C8R7K8"
      },
      "outputs": [],
      "source": [
        "# @title Set Up\n",
        "%%capture\n",
        "!git clone https://github.com/GenaroHacker/python_module_scanner.git\n",
        "from python_module_scanner.classes.module_scanner import ModuleScanner\n"
      ]
    },
    {
      "cell_type": "code",
      "source": [
        "# @title Declare Module\n",
        "\n",
        "# Example usage:\n",
        "import ast\n",
        "module = ast\n",
        "scanner = ModuleScanner(module)\n"
      ],
      "metadata": {
        "cellView": "form",
        "id": "MzPgVo2bTDPo"
      },
      "execution_count": 12,
      "outputs": []
    },
    {
      "cell_type": "code",
      "source": [
        "# @title Class Family\n",
        "print(scanner.scan_class_relationships())\n"
      ],
      "metadata": {
        "cellView": "form",
        "id": "564OiRQ5UOub"
      },
      "execution_count": null,
      "outputs": []
    },
    {
      "cell_type": "code",
      "source": [
        "# @title Functions and Methods\n",
        "'''\n",
        "only = {\n",
        "    'docstring': True,\n",
        "    'decorators': False,\n",
        "    'args': True,\n",
        "    'returns': True,\n",
        "    'class': ['SomeClass', 'AnotherClass']\n",
        "}\n",
        "'''\n",
        "only = {}\n",
        "print(scanner.scan_function_definitions(only=only))\n"
      ],
      "metadata": {
        "cellView": "form",
        "id": "GYm6rHkiUPy5"
      },
      "execution_count": null,
      "outputs": []
    },
    {
      "cell_type": "code",
      "source": [
        "# @title Dependencies\n",
        "print(scanner.scan_module_dependencies())\n"
      ],
      "metadata": {
        "cellView": "form",
        "id": "X06lh5SLUQ3-"
      },
      "execution_count": null,
      "outputs": []
    }
  ]
}