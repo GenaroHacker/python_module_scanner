{
  "nbformat": 4,
  "nbformat_minor": 0,
  "metadata": {
    "colab": {
      "provenance": [],
      "authorship_tag": "ABX9TyMBH+NNFiUAGijunvGu/fjS",
      "include_colab_link": true
    },
    "kernelspec": {
      "name": "python3",
      "display_name": "Python 3"
    },
    "language_info": {
      "name": "python"
    }
  },
  "cells": [
    {
      "cell_type": "markdown",
      "metadata": {
        "id": "view-in-github",
        "colab_type": "text"
      },
      "source": [
        "<a href=\"https://colab.research.google.com/github/GenaroHacker/python_module_scanner/blob/main/main.ipynb\" target=\"_parent\"><img src=\"https://colab.research.google.com/assets/colab-badge.svg\" alt=\"Open In Colab\"/></a>"
      ]
    },
    {
      "cell_type": "code",
      "execution_count": 1,
      "metadata": {
        "cellView": "form",
        "id": "gPpU19C8R7K8"
      },
      "outputs": [],
      "source": [
        "# @title Set Up\n",
        "%%capture\n",
        "!git clone https://github.com/GenaroHacker/python_module_scanner.git\n",
        "from python_module_scanner.classes.module_scanner import ModuleScanner\n",
        "import json\n",
        "\n",
        "# Define a function to create filenames based on the module name\n",
        "def create_filename(base_name):\n",
        "    return f\"{module.__name__}_{base_name}.json\"\n"
      ]
    },
    {
      "cell_type": "code",
      "source": [
        "# @title Declare Module\n",
        "import random\n",
        "module = random\n",
        "scanner = ModuleScanner(module)\n"
      ],
      "metadata": {
        "cellView": "form",
        "id": "MzPgVo2bTDPo"
      },
      "execution_count": 2,
      "outputs": []
    },
    {
      "cell_type": "code",
      "source": [
        "# @title Class Family\n",
        "class_relationships = scanner.scan_class_relationships()\n",
        "with open(create_filename('class_family'), 'w') as f:\n",
        "    json.dump(class_relationships, f)\n"
      ],
      "metadata": {
        "cellView": "form",
        "id": "564OiRQ5UOub"
      },
      "execution_count": 3,
      "outputs": []
    },
    {
      "cell_type": "code",
      "source": [
        "'''\n",
        "only = {\n",
        "    'docstring': True,\n",
        "    'decorators': False,\n",
        "    'args': True,\n",
        "    'returns': True,\n",
        "    'class': ['SomeClass', 'AnotherClass']\n",
        "}\n",
        "'''\n",
        "# @title Functions and Methods\n",
        "only = {}\n",
        "function_definitions = scanner.scan_function_definitions(only=only)\n",
        "with open(create_filename('functions_methods'), 'w') as f:\n",
        "    json.dump(function_definitions, f)\n"
      ],
      "metadata": {
        "cellView": "form",
        "id": "GYm6rHkiUPy5"
      },
      "execution_count": 4,
      "outputs": []
    },
    {
      "cell_type": "code",
      "source": [
        "# @title Dependencies\n",
        "module_dependencies = scanner.scan_module_dependencies()\n",
        "with open(create_filename('dependencies'), 'w') as f:\n",
        "    json.dump(module_dependencies, f)\n"
      ],
      "metadata": {
        "cellView": "form",
        "id": "X06lh5SLUQ3-"
      },
      "execution_count": 5,
      "outputs": []
    }
  ]
}