{
  "nbformat": 4,
  "nbformat_minor": 0,
  "metadata": {
    "colab": {
      "provenance": [],
      "authorship_tag": "ABX9TyMJsMb/T0te3NAJx+EAESIs",
      "include_colab_link": true
    },
    "kernelspec": {
      "name": "python3",
      "display_name": "Python 3"
    },
    "language_info": {
      "name": "python"
    }
  },
  "cells": [
    {
      "cell_type": "markdown",
      "metadata": {
        "id": "view-in-github",
        "colab_type": "text"
      },
      "source": [
        "<a href=\"https://colab.research.google.com/github/GenaroHacker/python_module_scanner/blob/main/main.ipynb\" target=\"_parent\"><img src=\"https://colab.research.google.com/assets/colab-badge.svg\" alt=\"Open In Colab\"/></a>"
      ]
    },
    {
      "cell_type": "code",
      "execution_count": 13,
      "metadata": {
        "cellView": "form",
        "id": "gPpU19C8R7K8"
      },
      "outputs": [],
      "source": [
        "# @title Set Up\n",
        "%%capture\n",
        "!git clone https://github.com/GenaroHacker/python_module_scanner.git\n",
        "from python_module_scanner.classes.module_scanner import ModuleScanner\n",
        "import json\n",
        "import os\n"
      ]
    },
    {
      "cell_type": "code",
      "source": [
        "# @title Declare Module\n",
        "import random\n",
        "module = random\n",
        "scanner = ModuleScanner(module)\n",
        "\n",
        "# Ensure the directory exists\n",
        "module_dir = f\"./{module.__name__}\"\n",
        "os.makedirs(module_dir, exist_ok=True)\n",
        "\n",
        "# Define a function to create filenames with a directory\n",
        "def create_filename(base_name):\n",
        "    return f\"{module_dir}/{module.__name__}_{base_name}.json\"\n"
      ],
      "metadata": {
        "cellView": "form",
        "id": "MzPgVo2bTDPo"
      },
      "execution_count": 14,
      "outputs": []
    },
    {
      "cell_type": "code",
      "source": [
        "# @title Class Family\n",
        "class_relationships = scanner.scan_class_relationships()\n",
        "with open(create_filename('class_family'), 'w') as f:\n",
        "    json.dump(class_relationships, f)\n"
      ],
      "metadata": {
        "cellView": "form",
        "id": "564OiRQ5UOub"
      },
      "execution_count": 15,
      "outputs": []
    },
    {
      "cell_type": "code",
      "source": [
        "'''\n",
        "only = {\n",
        "    'docstring': True,\n",
        "    'decorators': False,\n",
        "    'args': True,\n",
        "    'returns': True,\n",
        "    'class': ['SomeClass', 'AnotherClass']\n",
        "}\n",
        "'''\n",
        "# @title Functions and Methods\n",
        "only = {}\n",
        "function_definitions = scanner.scan_function_definitions(only=only)\n",
        "with open(create_filename('functions_methods'), 'w') as f:\n",
        "    json.dump(function_definitions, f)\n"
      ],
      "metadata": {
        "cellView": "form",
        "id": "GYm6rHkiUPy5"
      },
      "execution_count": 16,
      "outputs": []
    },
    {
      "cell_type": "code",
      "source": [
        "# @title Dependencies\n",
        "module_dependencies = scanner.scan_module_dependencies()\n",
        "with open(create_filename('dependencies'), 'w') as f:\n",
        "    json.dump(module_dependencies, f)\n"
      ],
      "metadata": {
        "cellView": "form",
        "id": "X06lh5SLUQ3-"
      },
      "execution_count": 17,
      "outputs": []
    },
    {
      "cell_type": "code",
      "source": [
        "# @title Compress and Download\n",
        "!zip -r {module.__name__}.zip {module_dir}\n",
        "from google.colab import files\n",
        "files.download(f\"{module.__name__}.zip\")\n"
      ],
      "metadata": {
        "cellView": "form",
        "id": "qz-aOjW98w8N",
        "outputId": "6bcbb2fc-67e7-4f77-f108-bca3c338a7d7",
        "colab": {
          "base_uri": "https://localhost:8080/",
          "height": 86
        }
      },
      "execution_count": 20,
      "outputs": [
        {
          "output_type": "stream",
          "name": "stdout",
          "text": [
            "updating: random/ (stored 0%)\n",
            "updating: random/random_functions_methods.json (deflated 68%)\n",
            "updating: random/random_dependencies.json (deflated 73%)\n",
            "updating: random/random_class_family.json (deflated 48%)\n"
          ]
        },
        {
          "output_type": "display_data",
          "data": {
            "text/plain": [
              "<IPython.core.display.Javascript object>"
            ],
            "application/javascript": [
              "\n",
              "    async function download(id, filename, size) {\n",
              "      if (!google.colab.kernel.accessAllowed) {\n",
              "        return;\n",
              "      }\n",
              "      const div = document.createElement('div');\n",
              "      const label = document.createElement('label');\n",
              "      label.textContent = `Downloading \"${filename}\": `;\n",
              "      div.appendChild(label);\n",
              "      const progress = document.createElement('progress');\n",
              "      progress.max = size;\n",
              "      div.appendChild(progress);\n",
              "      document.body.appendChild(div);\n",
              "\n",
              "      const buffers = [];\n",
              "      let downloaded = 0;\n",
              "\n",
              "      const channel = await google.colab.kernel.comms.open(id);\n",
              "      // Send a message to notify the kernel that we're ready.\n",
              "      channel.send({})\n",
              "\n",
              "      for await (const message of channel.messages) {\n",
              "        // Send a message to notify the kernel that we're ready.\n",
              "        channel.send({})\n",
              "        if (message.buffers) {\n",
              "          for (const buffer of message.buffers) {\n",
              "            buffers.push(buffer);\n",
              "            downloaded += buffer.byteLength;\n",
              "            progress.value = downloaded;\n",
              "          }\n",
              "        }\n",
              "      }\n",
              "      const blob = new Blob(buffers, {type: 'application/binary'});\n",
              "      const a = document.createElement('a');\n",
              "      a.href = window.URL.createObjectURL(blob);\n",
              "      a.download = filename;\n",
              "      div.appendChild(a);\n",
              "      a.click();\n",
              "      div.remove();\n",
              "    }\n",
              "  "
            ]
          },
          "metadata": {}
        },
        {
          "output_type": "display_data",
          "data": {
            "text/plain": [
              "<IPython.core.display.Javascript object>"
            ],
            "application/javascript": [
              "download(\"download_f10afa40-5daf-43e5-8e35-3a027702bf34\", \"random.zip\", 3682)"
            ]
          },
          "metadata": {}
        }
      ]
    }
  ]
}